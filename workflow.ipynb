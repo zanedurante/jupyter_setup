{
 "cells": [
  {
   "cell_type": "code",
   "execution_count": 1,
   "id": "620f923b-a5da-4d0a-9efb-259b65c3d3a0",
   "metadata": {},
   "outputs": [],
   "source": [
    "# RUN ONCE TO INITIALIZE MOMA API -- SET INPUT/OUTPUT DIRS\n",
    "from momaapi import MOMA\n",
    "\n",
    "dir_moma = '../data/moma'\n",
    "dir_vis = '../visualizations'\n",
    "\n",
    "moma = MOMA(dir_moma)"
   ]
  },
  {
   "cell_type": "code",
   "execution_count": 19,
   "id": "674d64ba-7866-4824-9fb5-dae44b2808ae",
   "metadata": {},
   "outputs": [],
   "source": [
    "import random\n",
    "from momaapi import AnnVisualizer\n",
    "import os"
   ]
  },
  {
   "cell_type": "code",
   "execution_count": 21,
   "id": "e5f88e13-0c55-4c6b-a9a5-d05bd69dd7e0",
   "metadata": {},
   "outputs": [],
   "source": [
    "# Set the list of objects of interest\n",
    "cnames_object = [\n",
    "    'scissors',\n",
    "    'box',\n",
    "]"
   ]
  },
  {
   "cell_type": "code",
   "execution_count": 15,
   "id": "63453cf6-4131-47da-b354-77c71ed773f9",
   "metadata": {},
   "outputs": [],
   "source": [
    "# HOTFIX TO STOP OUTPUT OVERLOAD\n",
    "from contextlib import contextmanager\n",
    "import sys, os\n",
    "import matplotlib.pyplot as plt\n",
    "\n",
    "@contextmanager\n",
    "def suppress_stdout():\n",
    "    plt.rcParams.update({'figure.max_open_warning': 0}) # Remove max warning error output\n",
    "    with open(os.devnull, \"w\") as devnull:\n",
    "        old_stdout = sys.stdout\n",
    "        sys.stdout = devnull\n",
    "        try:  \n",
    "            yield\n",
    "        finally:\n",
    "            sys.stdout = old_stdout"
   ]
  },
  {
   "cell_type": "markdown",
   "id": "547c9c37-463e-49bf-99de-fa9335177606",
   "metadata": {},
   "source": [
    "FYI: I had to run `sudo apt install ghostscript`  in order to resolve a 'gs' not found error for this next cell \n",
    "\n",
    "The gif outputs by default are stored in `visualizations/obj_name/sact/`. You can view the outputs directly in jupyter lab"
   ]
  },
  {
   "cell_type": "code",
   "execution_count": 22,
   "id": "b99dd953-ff3c-4a29-9fd1-49a491a353ed",
   "metadata": {},
   "outputs": [
    {
     "name": "stdout",
     "output_type": "stream",
     "text": [
      "Class: scissors has 418 examples, only looking at 5 of them...\n",
      "Creating gif 1 / 5\n",
      "Creating gif 2 / 5\n",
      "Creating gif 3 / 5\n",
      "Creating gif 4 / 5\n",
      "Creating gif 5 / 5\n",
      "Class: box has 21 examples, only looking at 5 of them...\n",
      "Creating gif 1 / 5\n",
      "Creating gif 2 / 5\n",
      "Creating gif 3 / 5\n",
      "Creating gif 4 / 5\n",
      "Creating gif 5 / 5\n"
     ]
    }
   ],
   "source": [
    "for cname_obj in cnames_object:\n",
    "    k = 5\n",
    "    output_dir = os.path.join(dir_vis, cname_obj)\n",
    "    visualizer = AnnVisualizer(moma, output_dir)\n",
    "    ids_sact = moma.get_ids_sact(cnames_object=[cname_obj])\n",
    "    print(\"Class:\", cname_obj, \"has\", len(ids_sact), \"examples, only looking at\", k, \"of them...\")\n",
    "    ids_sact = random.choices(ids_sact, k=k)\n",
    "    for idx, id_sact in enumerate(ids_sact):\n",
    "        print(\"Creating gif\", idx + 1, \"/\", k)\n",
    "        with suppress_stdout():\n",
    "            visualizer.show_sact(id_sact)#, vstack=False)\n",
    "            plt.close('all')"
   ]
  },
  {
   "cell_type": "code",
   "execution_count": null,
   "id": "892dfbbe-cdf8-4563-8c82-1af27d5f82cc",
   "metadata": {},
   "outputs": [],
   "source": []
  }
 ],
 "metadata": {
  "kernelspec": {
   "display_name": "Python 3 (ipykernel)",
   "language": "python",
   "name": "python3"
  },
  "language_info": {
   "codemirror_mode": {
    "name": "ipython",
    "version": 3
   },
   "file_extension": ".py",
   "mimetype": "text/x-python",
   "name": "python",
   "nbconvert_exporter": "python",
   "pygments_lexer": "ipython3",
   "version": "3.9.7"
  }
 },
 "nbformat": 4,
 "nbformat_minor": 5
}
